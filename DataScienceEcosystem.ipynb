{
 "cells": [
  {
   "cell_type": "markdown",
   "id": "6000b9b9-d7bf-4408-8b16-68f43305d3c6",
   "metadata": {},
   "source": [
    "# Data Science Tools and Ecosystem \n"
   ]
  },
  {
   "cell_type": "markdown",
   "id": "33869696-a5e8-4c2f-ae0d-8c58eea87fe2",
   "metadata": {},
   "source": [
    "## Introduction \n",
    "\n",
    "In this notebook, Data Science Tools and Ecosystem are summarized.\n"
   ]
  },
  {
   "cell_type": "markdown",
   "id": "2863ae2d-9274-4e50-be21-b6f8ca42d78f",
   "metadata": {},
   "source": [
    "**Objectives**\n",
    "\n",
    "* Create a Python notebook.  \n",
    "* Evaluate both code and markdown in Python.  \n",
    "* List popular lanugages for data science.  \n",
    "* List commonly use libraries in data science.  \n",
    "* Create a table of open-source data science tools.  \n",
    "* Evaluate basic arithmetic expressions in Python.  "
   ]
  },
  {
   "cell_type": "markdown",
   "id": "f80cc62e-5912-43a8-9995-40812f1d44dc",
   "metadata": {},
   "source": [
    "Some of the popular languages that Data Scientists use are:\n",
    "\n",
    "1. Python\n",
    "2. R\n",
    "3. SQL\n",
    "4. Java\n",
    "5. C++\n"
   ]
  },
  {
   "cell_type": "markdown",
   "id": "d30e5590-ca61-4dfa-9e8c-1b8a00ca6478",
   "metadata": {},
   "source": [
    "Some of the libraries commonly used by Data Scientists include:\n",
    "\n",
    "1. Pandas\n",
    "2. NumPy\n",
    "3. SciPy\n",
    "4. Matplotlib"
   ]
  },
  {
   "cell_type": "markdown",
   "id": "af064c1c-0e37-440a-af11-84f26611722a",
   "metadata": {},
   "source": [
    "### Table 1. Data Science Tools\n",
    "|Data Science Tools|\n",
    "|------|\n",
    "|Jupyter IDE|\n",
    "|RStudio|\n",
    "|Spyder|\n",
    "\n"
   ]
  },
  {
   "cell_type": "markdown",
   "id": "e18d42e9-8128-4e57-85c0-74a69dc703ea",
   "metadata": {},
   "source": [
    "### Below are a few examples of evaluating arithmetic expressions in Python\n"
   ]
  },
  {
   "cell_type": "code",
   "execution_count": 8,
   "id": "019c9867-ba2c-46d3-a494-4510ba9e1e63",
   "metadata": {},
   "outputs": [
    {
     "data": {
      "text/plain": [
       "17"
      ]
     },
     "execution_count": 8,
     "metadata": {},
     "output_type": "execute_result"
    }
   ],
   "source": [
    "# This is a simple arithmetic expression to multiply then add integers.\n",
    "\n",
    "(3*4)+5"
   ]
  },
  {
   "cell_type": "code",
   "execution_count": 9,
   "id": "8afb0cc4-be6a-4ca4-9abf-15e188bdfdbb",
   "metadata": {},
   "outputs": [
    {
     "data": {
      "text/plain": [
       "3.3333333333333335"
      ]
     },
     "execution_count": 9,
     "metadata": {},
     "output_type": "execute_result"
    }
   ],
   "source": [
    "# This will convert 200 minutes to hours by diving by 60\n",
    "\n",
    "200/60"
   ]
  },
  {
   "cell_type": "markdown",
   "id": "f35ad8fb-fc65-48c4-bf3a-f6cabc64e2f1",
   "metadata": {},
   "source": [
    "## Author\n",
    "\n",
    "JN (I'd prefer not to share my full name)"
   ]
  }
 ],
 "metadata": {
  "kernelspec": {
   "display_name": "Python 3 (ipykernel)",
   "language": "python",
   "name": "python3"
  },
  "language_info": {
   "codemirror_mode": {
    "name": "ipython",
    "version": 3
   },
   "file_extension": ".py",
   "mimetype": "text/x-python",
   "name": "python",
   "nbconvert_exporter": "python",
   "pygments_lexer": "ipython3",
   "version": "3.12.7"
  }
 },
 "nbformat": 4,
 "nbformat_minor": 5
}
